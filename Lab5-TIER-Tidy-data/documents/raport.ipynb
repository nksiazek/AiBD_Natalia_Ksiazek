{
 "cells": [
  {
   "cell_type": "code",
   "execution_count": 2,
   "metadata": {
    "collapsed": true
   },
   "outputs": [
    {
     "data": {
      "text/plain": "     year      artist.inverted                                  track  time  \\\n0    2000      Destiny's Child               Independent Women Part I  3:38   \n1    2000              Santana                           Maria, Maria  4:18   \n2    2000        Savage Garden                     I Knew I Loved You  4:07   \n3    2000              Madonna                                  Music  3:45   \n4    2000  Aguilera, Christina  Come On Over Baby (All I Want Is You)  3:38   \n..    ...                  ...                                    ...   ...   \n312  2000     Ghostface Killah                       Cherchez LaGhost  3:04   \n313  2000          Smith, Will                            Freakin' It  3:58   \n314  2000        Zombie Nation                          Kernkraft 400  3:30   \n315  2000       Eastsidaz, The                               Got Beef  3:58   \n316  2000               Fragma                         Toca's Miracle  3:22   \n\n    genre date.entered date.peaked  x1st.week  x2nd.week  x3rd.week  ...  \\\n0    Rock   2000-09-23  2000-11-18         78       63.0       49.0  ...   \n1    Rock   2000-02-12  2000-04-08         15        8.0        6.0  ...   \n2    Rock   1999-10-23  2000-01-29         71       48.0       43.0  ...   \n3    Rock   2000-08-12  2000-09-16         41       23.0       18.0  ...   \n4    Rock   2000-08-05  2000-10-14         57       47.0       45.0  ...   \n..    ...          ...         ...        ...        ...        ...  ...   \n312   R&B   2000-08-05  2000-08-05         98        NaN        NaN  ...   \n313   Rap   2000-02-12  2000-02-12         99       99.0       99.0  ...   \n314  Rock   2000-09-02  2000-09-02         99       99.0        NaN  ...   \n315   Rap   2000-07-01  2000-07-01         99       99.0        NaN  ...   \n316   R&B   2000-10-28  2000-10-28         99        NaN        NaN  ...   \n\n     x67th.week  x68th.week  x69th.week  x70th.week  x71st.week  x72nd.week  \\\n0           NaN         NaN         NaN         NaN         NaN         NaN   \n1           NaN         NaN         NaN         NaN         NaN         NaN   \n2           NaN         NaN         NaN         NaN         NaN         NaN   \n3           NaN         NaN         NaN         NaN         NaN         NaN   \n4           NaN         NaN         NaN         NaN         NaN         NaN   \n..          ...         ...         ...         ...         ...         ...   \n312         NaN         NaN         NaN         NaN         NaN         NaN   \n313         NaN         NaN         NaN         NaN         NaN         NaN   \n314         NaN         NaN         NaN         NaN         NaN         NaN   \n315         NaN         NaN         NaN         NaN         NaN         NaN   \n316         NaN         NaN         NaN         NaN         NaN         NaN   \n\n     x73rd.week  x74th.week  x75th.week  x76th.week  \n0           NaN         NaN         NaN         NaN  \n1           NaN         NaN         NaN         NaN  \n2           NaN         NaN         NaN         NaN  \n3           NaN         NaN         NaN         NaN  \n4           NaN         NaN         NaN         NaN  \n..          ...         ...         ...         ...  \n312         NaN         NaN         NaN         NaN  \n313         NaN         NaN         NaN         NaN  \n314         NaN         NaN         NaN         NaN  \n315         NaN         NaN         NaN         NaN  \n316         NaN         NaN         NaN         NaN  \n\n[317 rows x 83 columns]",
      "text/html": "<div>\n<style scoped>\n    .dataframe tbody tr th:only-of-type {\n        vertical-align: middle;\n    }\n\n    .dataframe tbody tr th {\n        vertical-align: top;\n    }\n\n    .dataframe thead th {\n        text-align: right;\n    }\n</style>\n<table border=\"1\" class=\"dataframe\">\n  <thead>\n    <tr style=\"text-align: right;\">\n      <th></th>\n      <th>year</th>\n      <th>artist.inverted</th>\n      <th>track</th>\n      <th>time</th>\n      <th>genre</th>\n      <th>date.entered</th>\n      <th>date.peaked</th>\n      <th>x1st.week</th>\n      <th>x2nd.week</th>\n      <th>x3rd.week</th>\n      <th>...</th>\n      <th>x67th.week</th>\n      <th>x68th.week</th>\n      <th>x69th.week</th>\n      <th>x70th.week</th>\n      <th>x71st.week</th>\n      <th>x72nd.week</th>\n      <th>x73rd.week</th>\n      <th>x74th.week</th>\n      <th>x75th.week</th>\n      <th>x76th.week</th>\n    </tr>\n  </thead>\n  <tbody>\n    <tr>\n      <th>0</th>\n      <td>2000</td>\n      <td>Destiny's Child</td>\n      <td>Independent Women Part I</td>\n      <td>3:38</td>\n      <td>Rock</td>\n      <td>2000-09-23</td>\n      <td>2000-11-18</td>\n      <td>78</td>\n      <td>63.0</td>\n      <td>49.0</td>\n      <td>...</td>\n      <td>NaN</td>\n      <td>NaN</td>\n      <td>NaN</td>\n      <td>NaN</td>\n      <td>NaN</td>\n      <td>NaN</td>\n      <td>NaN</td>\n      <td>NaN</td>\n      <td>NaN</td>\n      <td>NaN</td>\n    </tr>\n    <tr>\n      <th>1</th>\n      <td>2000</td>\n      <td>Santana</td>\n      <td>Maria, Maria</td>\n      <td>4:18</td>\n      <td>Rock</td>\n      <td>2000-02-12</td>\n      <td>2000-04-08</td>\n      <td>15</td>\n      <td>8.0</td>\n      <td>6.0</td>\n      <td>...</td>\n      <td>NaN</td>\n      <td>NaN</td>\n      <td>NaN</td>\n      <td>NaN</td>\n      <td>NaN</td>\n      <td>NaN</td>\n      <td>NaN</td>\n      <td>NaN</td>\n      <td>NaN</td>\n      <td>NaN</td>\n    </tr>\n    <tr>\n      <th>2</th>\n      <td>2000</td>\n      <td>Savage Garden</td>\n      <td>I Knew I Loved You</td>\n      <td>4:07</td>\n      <td>Rock</td>\n      <td>1999-10-23</td>\n      <td>2000-01-29</td>\n      <td>71</td>\n      <td>48.0</td>\n      <td>43.0</td>\n      <td>...</td>\n      <td>NaN</td>\n      <td>NaN</td>\n      <td>NaN</td>\n      <td>NaN</td>\n      <td>NaN</td>\n      <td>NaN</td>\n      <td>NaN</td>\n      <td>NaN</td>\n      <td>NaN</td>\n      <td>NaN</td>\n    </tr>\n    <tr>\n      <th>3</th>\n      <td>2000</td>\n      <td>Madonna</td>\n      <td>Music</td>\n      <td>3:45</td>\n      <td>Rock</td>\n      <td>2000-08-12</td>\n      <td>2000-09-16</td>\n      <td>41</td>\n      <td>23.0</td>\n      <td>18.0</td>\n      <td>...</td>\n      <td>NaN</td>\n      <td>NaN</td>\n      <td>NaN</td>\n      <td>NaN</td>\n      <td>NaN</td>\n      <td>NaN</td>\n      <td>NaN</td>\n      <td>NaN</td>\n      <td>NaN</td>\n      <td>NaN</td>\n    </tr>\n    <tr>\n      <th>4</th>\n      <td>2000</td>\n      <td>Aguilera, Christina</td>\n      <td>Come On Over Baby (All I Want Is You)</td>\n      <td>3:38</td>\n      <td>Rock</td>\n      <td>2000-08-05</td>\n      <td>2000-10-14</td>\n      <td>57</td>\n      <td>47.0</td>\n      <td>45.0</td>\n      <td>...</td>\n      <td>NaN</td>\n      <td>NaN</td>\n      <td>NaN</td>\n      <td>NaN</td>\n      <td>NaN</td>\n      <td>NaN</td>\n      <td>NaN</td>\n      <td>NaN</td>\n      <td>NaN</td>\n      <td>NaN</td>\n    </tr>\n    <tr>\n      <th>...</th>\n      <td>...</td>\n      <td>...</td>\n      <td>...</td>\n      <td>...</td>\n      <td>...</td>\n      <td>...</td>\n      <td>...</td>\n      <td>...</td>\n      <td>...</td>\n      <td>...</td>\n      <td>...</td>\n      <td>...</td>\n      <td>...</td>\n      <td>...</td>\n      <td>...</td>\n      <td>...</td>\n      <td>...</td>\n      <td>...</td>\n      <td>...</td>\n      <td>...</td>\n      <td>...</td>\n    </tr>\n    <tr>\n      <th>312</th>\n      <td>2000</td>\n      <td>Ghostface Killah</td>\n      <td>Cherchez LaGhost</td>\n      <td>3:04</td>\n      <td>R&amp;B</td>\n      <td>2000-08-05</td>\n      <td>2000-08-05</td>\n      <td>98</td>\n      <td>NaN</td>\n      <td>NaN</td>\n      <td>...</td>\n      <td>NaN</td>\n      <td>NaN</td>\n      <td>NaN</td>\n      <td>NaN</td>\n      <td>NaN</td>\n      <td>NaN</td>\n      <td>NaN</td>\n      <td>NaN</td>\n      <td>NaN</td>\n      <td>NaN</td>\n    </tr>\n    <tr>\n      <th>313</th>\n      <td>2000</td>\n      <td>Smith, Will</td>\n      <td>Freakin' It</td>\n      <td>3:58</td>\n      <td>Rap</td>\n      <td>2000-02-12</td>\n      <td>2000-02-12</td>\n      <td>99</td>\n      <td>99.0</td>\n      <td>99.0</td>\n      <td>...</td>\n      <td>NaN</td>\n      <td>NaN</td>\n      <td>NaN</td>\n      <td>NaN</td>\n      <td>NaN</td>\n      <td>NaN</td>\n      <td>NaN</td>\n      <td>NaN</td>\n      <td>NaN</td>\n      <td>NaN</td>\n    </tr>\n    <tr>\n      <th>314</th>\n      <td>2000</td>\n      <td>Zombie Nation</td>\n      <td>Kernkraft 400</td>\n      <td>3:30</td>\n      <td>Rock</td>\n      <td>2000-09-02</td>\n      <td>2000-09-02</td>\n      <td>99</td>\n      <td>99.0</td>\n      <td>NaN</td>\n      <td>...</td>\n      <td>NaN</td>\n      <td>NaN</td>\n      <td>NaN</td>\n      <td>NaN</td>\n      <td>NaN</td>\n      <td>NaN</td>\n      <td>NaN</td>\n      <td>NaN</td>\n      <td>NaN</td>\n      <td>NaN</td>\n    </tr>\n    <tr>\n      <th>315</th>\n      <td>2000</td>\n      <td>Eastsidaz, The</td>\n      <td>Got Beef</td>\n      <td>3:58</td>\n      <td>Rap</td>\n      <td>2000-07-01</td>\n      <td>2000-07-01</td>\n      <td>99</td>\n      <td>99.0</td>\n      <td>NaN</td>\n      <td>...</td>\n      <td>NaN</td>\n      <td>NaN</td>\n      <td>NaN</td>\n      <td>NaN</td>\n      <td>NaN</td>\n      <td>NaN</td>\n      <td>NaN</td>\n      <td>NaN</td>\n      <td>NaN</td>\n      <td>NaN</td>\n    </tr>\n    <tr>\n      <th>316</th>\n      <td>2000</td>\n      <td>Fragma</td>\n      <td>Toca's Miracle</td>\n      <td>3:22</td>\n      <td>R&amp;B</td>\n      <td>2000-10-28</td>\n      <td>2000-10-28</td>\n      <td>99</td>\n      <td>NaN</td>\n      <td>NaN</td>\n      <td>...</td>\n      <td>NaN</td>\n      <td>NaN</td>\n      <td>NaN</td>\n      <td>NaN</td>\n      <td>NaN</td>\n      <td>NaN</td>\n      <td>NaN</td>\n      <td>NaN</td>\n      <td>NaN</td>\n      <td>NaN</td>\n    </tr>\n  </tbody>\n</table>\n<p>317 rows × 83 columns</p>\n</div>"
     },
     "execution_count": 2,
     "metadata": {},
     "output_type": "execute_result"
    }
   ],
   "source": [
    "import pandas as pd\n",
    "\n",
    "df = pd.read_csv('billboard.csv', encoding_errors='ignore')\n",
    "df"
   ]
  },
  {
   "cell_type": "code",
   "execution_count": 18,
   "outputs": [
    {
     "data": {
      "text/plain": "     year                                  track  time genre\n0    2000               Independent Women Part I  3:38  Rock\n1    2000                           Maria, Maria  4:18  Rock\n2    2000                     I Knew I Loved You  4:07  Rock\n3    2000                                  Music  3:45  Rock\n4    2000  Come On Over Baby (All I Want Is You)  3:38  Rock\n..    ...                                    ...   ...   ...\n312  2000                       Cherchez LaGhost  3:04   R&B\n313  2000                            Freakin' It  3:58   Rap\n314  2000                          Kernkraft 400  3:30  Rock\n315  2000                               Got Beef  3:58   Rap\n316  2000                         Toca's Miracle  3:22   R&B\n\n[317 rows x 4 columns]",
      "text/html": "<div>\n<style scoped>\n    .dataframe tbody tr th:only-of-type {\n        vertical-align: middle;\n    }\n\n    .dataframe tbody tr th {\n        vertical-align: top;\n    }\n\n    .dataframe thead th {\n        text-align: right;\n    }\n</style>\n<table border=\"1\" class=\"dataframe\">\n  <thead>\n    <tr style=\"text-align: right;\">\n      <th></th>\n      <th>year</th>\n      <th>track</th>\n      <th>time</th>\n      <th>genre</th>\n    </tr>\n  </thead>\n  <tbody>\n    <tr>\n      <th>0</th>\n      <td>2000</td>\n      <td>Independent Women Part I</td>\n      <td>3:38</td>\n      <td>Rock</td>\n    </tr>\n    <tr>\n      <th>1</th>\n      <td>2000</td>\n      <td>Maria, Maria</td>\n      <td>4:18</td>\n      <td>Rock</td>\n    </tr>\n    <tr>\n      <th>2</th>\n      <td>2000</td>\n      <td>I Knew I Loved You</td>\n      <td>4:07</td>\n      <td>Rock</td>\n    </tr>\n    <tr>\n      <th>3</th>\n      <td>2000</td>\n      <td>Music</td>\n      <td>3:45</td>\n      <td>Rock</td>\n    </tr>\n    <tr>\n      <th>4</th>\n      <td>2000</td>\n      <td>Come On Over Baby (All I Want Is You)</td>\n      <td>3:38</td>\n      <td>Rock</td>\n    </tr>\n    <tr>\n      <th>...</th>\n      <td>...</td>\n      <td>...</td>\n      <td>...</td>\n      <td>...</td>\n    </tr>\n    <tr>\n      <th>312</th>\n      <td>2000</td>\n      <td>Cherchez LaGhost</td>\n      <td>3:04</td>\n      <td>R&amp;B</td>\n    </tr>\n    <tr>\n      <th>313</th>\n      <td>2000</td>\n      <td>Freakin' It</td>\n      <td>3:58</td>\n      <td>Rap</td>\n    </tr>\n    <tr>\n      <th>314</th>\n      <td>2000</td>\n      <td>Kernkraft 400</td>\n      <td>3:30</td>\n      <td>Rock</td>\n    </tr>\n    <tr>\n      <th>315</th>\n      <td>2000</td>\n      <td>Got Beef</td>\n      <td>3:58</td>\n      <td>Rap</td>\n    </tr>\n    <tr>\n      <th>316</th>\n      <td>2000</td>\n      <td>Toca's Miracle</td>\n      <td>3:22</td>\n      <td>R&amp;B</td>\n    </tr>\n  </tbody>\n</table>\n<p>317 rows × 4 columns</p>\n</div>"
     },
     "execution_count": 18,
     "metadata": {},
     "output_type": "execute_result"
    }
   ],
   "source": [
    "df_sub = df[['year', 'track', 'time', 'genre']]\n",
    "df_sub"
   ],
   "metadata": {
    "collapsed": false
   }
  },
  {
   "cell_type": "code",
   "execution_count": 4,
   "outputs": [
    {
     "name": "stdout",
     "output_type": "stream",
     "text": [
      "<class 'pandas.core.frame.DataFrame'>\n",
      "RangeIndex: 317 entries, 0 to 316\n",
      "Data columns (total 83 columns):\n",
      " #   Column           Non-Null Count  Dtype  \n",
      "---  ------           --------------  -----  \n",
      " 0   year             317 non-null    int64  \n",
      " 1   artist.inverted  317 non-null    object \n",
      " 2   track            317 non-null    object \n",
      " 3   time             317 non-null    object \n",
      " 4   genre            317 non-null    object \n",
      " 5   date.entered     317 non-null    object \n",
      " 6   date.peaked      317 non-null    object \n",
      " 7   x1st.week        317 non-null    int64  \n",
      " 8   x2nd.week        312 non-null    float64\n",
      " 9   x3rd.week        307 non-null    float64\n",
      " 10  x4th.week        300 non-null    float64\n",
      " 11  x5th.week        292 non-null    float64\n",
      " 12  x6th.week        280 non-null    float64\n",
      " 13  x7th.week        269 non-null    float64\n",
      " 14  x8th.week        260 non-null    float64\n",
      " 15  x9th.week        253 non-null    float64\n",
      " 16  x10th.week       244 non-null    float64\n",
      " 17  x11th.week       236 non-null    float64\n",
      " 18  x12th.week       222 non-null    float64\n",
      " 19  x13th.week       210 non-null    float64\n",
      " 20  x14th.week       204 non-null    float64\n",
      " 21  x15th.week       197 non-null    float64\n",
      " 22  x16th.week       182 non-null    float64\n",
      " 23  x17th.week       177 non-null    float64\n",
      " 24  x18th.week       166 non-null    float64\n",
      " 25  x19th.week       156 non-null    float64\n",
      " 26  x20th.week       146 non-null    float64\n",
      " 27  x21st.week       65 non-null     float64\n",
      " 28  x22nd.week       55 non-null     float64\n",
      " 29  x23rd.week       48 non-null     float64\n",
      " 30  x24th.week       46 non-null     float64\n",
      " 31  x25th.week       38 non-null     float64\n",
      " 32  x26th.week       36 non-null     float64\n",
      " 33  x27th.week       29 non-null     float64\n",
      " 34  x28th.week       24 non-null     float64\n",
      " 35  x29th.week       20 non-null     float64\n",
      " 36  x30th.week       20 non-null     float64\n",
      " 37  x31st.week       19 non-null     float64\n",
      " 38  x32nd.week       18 non-null     float64\n",
      " 39  x33rd.week       12 non-null     float64\n",
      " 40  x34th.week       10 non-null     float64\n",
      " 41  x35th.week       9 non-null      float64\n",
      " 42  x36th.week       9 non-null      float64\n",
      " 43  x37th.week       9 non-null      float64\n",
      " 44  x38th.week       8 non-null      float64\n",
      " 45  x39th.week       8 non-null      float64\n",
      " 46  x40th.week       7 non-null      float64\n",
      " 47  x41st.week       7 non-null      float64\n",
      " 48  x42nd.week       6 non-null      float64\n",
      " 49  x43rd.week       6 non-null      float64\n",
      " 50  x44th.week       6 non-null      float64\n",
      " 51  x45th.week       5 non-null      float64\n",
      " 52  x46th.week       5 non-null      float64\n",
      " 53  x47th.week       5 non-null      float64\n",
      " 54  x48th.week       4 non-null      float64\n",
      " 55  x49th.week       4 non-null      float64\n",
      " 56  x50th.week       4 non-null      float64\n",
      " 57  x51st.week       4 non-null      float64\n",
      " 58  x52nd.week       4 non-null      float64\n",
      " 59  x53rd.week       4 non-null      float64\n",
      " 60  x54th.week       2 non-null      float64\n",
      " 61  x55th.week       2 non-null      float64\n",
      " 62  x56th.week       2 non-null      float64\n",
      " 63  x57th.week       2 non-null      float64\n",
      " 64  x58th.week       2 non-null      float64\n",
      " 65  x59th.week       2 non-null      float64\n",
      " 66  x60th.week       2 non-null      float64\n",
      " 67  x61st.week       2 non-null      float64\n",
      " 68  x62nd.week       2 non-null      float64\n",
      " 69  x63rd.week       2 non-null      float64\n",
      " 70  x64th.week       2 non-null      float64\n",
      " 71  x65th.week       1 non-null      float64\n",
      " 72  x66th.week       0 non-null      float64\n",
      " 73  x67th.week       0 non-null      float64\n",
      " 74  x68th.week       0 non-null      float64\n",
      " 75  x69th.week       0 non-null      float64\n",
      " 76  x70th.week       0 non-null      float64\n",
      " 77  x71st.week       0 non-null      float64\n",
      " 78  x72nd.week       0 non-null      float64\n",
      " 79  x73rd.week       0 non-null      float64\n",
      " 80  x74th.week       0 non-null      float64\n",
      " 81  x75th.week       0 non-null      float64\n",
      " 82  x76th.week       0 non-null      float64\n",
      "dtypes: float64(75), int64(2), object(6)\n",
      "memory usage: 205.7+ KB\n"
     ]
    }
   ],
   "source": [
    "df.info()"
   ],
   "metadata": {
    "collapsed": false
   }
  },
  {
   "cell_type": "code",
   "execution_count": null,
   "outputs": [],
   "source": [
    "df['Year'].map({'2000': '00'})"
   ],
   "metadata": {
    "collapsed": false
   }
  },
  {
   "cell_type": "code",
   "execution_count": 6,
   "outputs": [
    {
     "data": {
      "text/plain": "         year   x1st.week   x2nd.week   x3rd.week   x4th.week   x5th.week  \\\ncount   317.0  317.000000  312.000000  307.000000  300.000000  292.000000   \nmean   2000.0   79.958991   71.173077   65.045603   59.763333   56.339041   \nstd       0.0   14.686865   18.200443   20.752302   22.324619   23.780022   \nmin    2000.0   15.000000    8.000000    6.000000    5.000000    2.000000   \n25%    2000.0   74.000000   63.000000   53.000000   44.750000   38.750000   \n50%    2000.0   81.000000   73.000000   66.000000   61.000000   57.000000   \n75%    2000.0   91.000000   84.000000   79.000000   76.000000   73.250000   \nmax    2000.0  100.000000  100.000000  100.000000  100.000000  100.000000   \n\n        x6th.week   x7th.week   x8th.week   x9th.week  ...  x67th.week  \\\ncount  280.000000  269.000000  260.000000  253.000000  ...         0.0   \nmean    52.360714   49.219331   47.119231   46.343874  ...         NaN   \nstd     24.473273   25.654279   26.370782   27.136419  ...         NaN   \nmin      1.000000    1.000000    1.000000    1.000000  ...         NaN   \n25%     33.750000   30.000000   27.000000   26.000000  ...         NaN   \n50%     51.500000   47.000000   45.500000   42.000000  ...         NaN   \n75%     72.250000   67.000000   67.000000   67.000000  ...         NaN   \nmax     99.000000  100.000000   99.000000  100.000000  ...         NaN   \n\n       x68th.week  x69th.week  x70th.week  x71st.week  x72nd.week  x73rd.week  \\\ncount         0.0         0.0         0.0         0.0         0.0         0.0   \nmean          NaN         NaN         NaN         NaN         NaN         NaN   \nstd           NaN         NaN         NaN         NaN         NaN         NaN   \nmin           NaN         NaN         NaN         NaN         NaN         NaN   \n25%           NaN         NaN         NaN         NaN         NaN         NaN   \n50%           NaN         NaN         NaN         NaN         NaN         NaN   \n75%           NaN         NaN         NaN         NaN         NaN         NaN   \nmax           NaN         NaN         NaN         NaN         NaN         NaN   \n\n       x74th.week  x75th.week  x76th.week  \ncount         0.0         0.0         0.0  \nmean          NaN         NaN         NaN  \nstd           NaN         NaN         NaN  \nmin           NaN         NaN         NaN  \n25%           NaN         NaN         NaN  \n50%           NaN         NaN         NaN  \n75%           NaN         NaN         NaN  \nmax           NaN         NaN         NaN  \n\n[8 rows x 77 columns]",
      "text/html": "<div>\n<style scoped>\n    .dataframe tbody tr th:only-of-type {\n        vertical-align: middle;\n    }\n\n    .dataframe tbody tr th {\n        vertical-align: top;\n    }\n\n    .dataframe thead th {\n        text-align: right;\n    }\n</style>\n<table border=\"1\" class=\"dataframe\">\n  <thead>\n    <tr style=\"text-align: right;\">\n      <th></th>\n      <th>year</th>\n      <th>x1st.week</th>\n      <th>x2nd.week</th>\n      <th>x3rd.week</th>\n      <th>x4th.week</th>\n      <th>x5th.week</th>\n      <th>x6th.week</th>\n      <th>x7th.week</th>\n      <th>x8th.week</th>\n      <th>x9th.week</th>\n      <th>...</th>\n      <th>x67th.week</th>\n      <th>x68th.week</th>\n      <th>x69th.week</th>\n      <th>x70th.week</th>\n      <th>x71st.week</th>\n      <th>x72nd.week</th>\n      <th>x73rd.week</th>\n      <th>x74th.week</th>\n      <th>x75th.week</th>\n      <th>x76th.week</th>\n    </tr>\n  </thead>\n  <tbody>\n    <tr>\n      <th>count</th>\n      <td>317.0</td>\n      <td>317.000000</td>\n      <td>312.000000</td>\n      <td>307.000000</td>\n      <td>300.000000</td>\n      <td>292.000000</td>\n      <td>280.000000</td>\n      <td>269.000000</td>\n      <td>260.000000</td>\n      <td>253.000000</td>\n      <td>...</td>\n      <td>0.0</td>\n      <td>0.0</td>\n      <td>0.0</td>\n      <td>0.0</td>\n      <td>0.0</td>\n      <td>0.0</td>\n      <td>0.0</td>\n      <td>0.0</td>\n      <td>0.0</td>\n      <td>0.0</td>\n    </tr>\n    <tr>\n      <th>mean</th>\n      <td>2000.0</td>\n      <td>79.958991</td>\n      <td>71.173077</td>\n      <td>65.045603</td>\n      <td>59.763333</td>\n      <td>56.339041</td>\n      <td>52.360714</td>\n      <td>49.219331</td>\n      <td>47.119231</td>\n      <td>46.343874</td>\n      <td>...</td>\n      <td>NaN</td>\n      <td>NaN</td>\n      <td>NaN</td>\n      <td>NaN</td>\n      <td>NaN</td>\n      <td>NaN</td>\n      <td>NaN</td>\n      <td>NaN</td>\n      <td>NaN</td>\n      <td>NaN</td>\n    </tr>\n    <tr>\n      <th>std</th>\n      <td>0.0</td>\n      <td>14.686865</td>\n      <td>18.200443</td>\n      <td>20.752302</td>\n      <td>22.324619</td>\n      <td>23.780022</td>\n      <td>24.473273</td>\n      <td>25.654279</td>\n      <td>26.370782</td>\n      <td>27.136419</td>\n      <td>...</td>\n      <td>NaN</td>\n      <td>NaN</td>\n      <td>NaN</td>\n      <td>NaN</td>\n      <td>NaN</td>\n      <td>NaN</td>\n      <td>NaN</td>\n      <td>NaN</td>\n      <td>NaN</td>\n      <td>NaN</td>\n    </tr>\n    <tr>\n      <th>min</th>\n      <td>2000.0</td>\n      <td>15.000000</td>\n      <td>8.000000</td>\n      <td>6.000000</td>\n      <td>5.000000</td>\n      <td>2.000000</td>\n      <td>1.000000</td>\n      <td>1.000000</td>\n      <td>1.000000</td>\n      <td>1.000000</td>\n      <td>...</td>\n      <td>NaN</td>\n      <td>NaN</td>\n      <td>NaN</td>\n      <td>NaN</td>\n      <td>NaN</td>\n      <td>NaN</td>\n      <td>NaN</td>\n      <td>NaN</td>\n      <td>NaN</td>\n      <td>NaN</td>\n    </tr>\n    <tr>\n      <th>25%</th>\n      <td>2000.0</td>\n      <td>74.000000</td>\n      <td>63.000000</td>\n      <td>53.000000</td>\n      <td>44.750000</td>\n      <td>38.750000</td>\n      <td>33.750000</td>\n      <td>30.000000</td>\n      <td>27.000000</td>\n      <td>26.000000</td>\n      <td>...</td>\n      <td>NaN</td>\n      <td>NaN</td>\n      <td>NaN</td>\n      <td>NaN</td>\n      <td>NaN</td>\n      <td>NaN</td>\n      <td>NaN</td>\n      <td>NaN</td>\n      <td>NaN</td>\n      <td>NaN</td>\n    </tr>\n    <tr>\n      <th>50%</th>\n      <td>2000.0</td>\n      <td>81.000000</td>\n      <td>73.000000</td>\n      <td>66.000000</td>\n      <td>61.000000</td>\n      <td>57.000000</td>\n      <td>51.500000</td>\n      <td>47.000000</td>\n      <td>45.500000</td>\n      <td>42.000000</td>\n      <td>...</td>\n      <td>NaN</td>\n      <td>NaN</td>\n      <td>NaN</td>\n      <td>NaN</td>\n      <td>NaN</td>\n      <td>NaN</td>\n      <td>NaN</td>\n      <td>NaN</td>\n      <td>NaN</td>\n      <td>NaN</td>\n    </tr>\n    <tr>\n      <th>75%</th>\n      <td>2000.0</td>\n      <td>91.000000</td>\n      <td>84.000000</td>\n      <td>79.000000</td>\n      <td>76.000000</td>\n      <td>73.250000</td>\n      <td>72.250000</td>\n      <td>67.000000</td>\n      <td>67.000000</td>\n      <td>67.000000</td>\n      <td>...</td>\n      <td>NaN</td>\n      <td>NaN</td>\n      <td>NaN</td>\n      <td>NaN</td>\n      <td>NaN</td>\n      <td>NaN</td>\n      <td>NaN</td>\n      <td>NaN</td>\n      <td>NaN</td>\n      <td>NaN</td>\n    </tr>\n    <tr>\n      <th>max</th>\n      <td>2000.0</td>\n      <td>100.000000</td>\n      <td>100.000000</td>\n      <td>100.000000</td>\n      <td>100.000000</td>\n      <td>100.000000</td>\n      <td>99.000000</td>\n      <td>100.000000</td>\n      <td>99.000000</td>\n      <td>100.000000</td>\n      <td>...</td>\n      <td>NaN</td>\n      <td>NaN</td>\n      <td>NaN</td>\n      <td>NaN</td>\n      <td>NaN</td>\n      <td>NaN</td>\n      <td>NaN</td>\n      <td>NaN</td>\n      <td>NaN</td>\n      <td>NaN</td>\n    </tr>\n  </tbody>\n</table>\n<p>8 rows × 77 columns</p>\n</div>"
     },
     "execution_count": 6,
     "metadata": {},
     "output_type": "execute_result"
    }
   ],
   "source": [
    "df.describe()"
   ],
   "metadata": {
    "collapsed": false
   }
  },
  {
   "cell_type": "code",
   "execution_count": null,
   "outputs": [],
   "source": [
    "#tworzenie nowej kolumny\n",
    "def mapper(x):\n",
    "    if x == '2000':\n",
    "        return 0\n",
    "    else:\n",
    "        return 1\n",
    "\n",
    "df_sub['Year code'] = df_sub['Year'].apply(mapper)\n",
    "df_sub['Year code']"
   ],
   "metadata": {
    "collapsed": false
   }
  }
 ],
 "metadata": {
  "kernelspec": {
   "display_name": "Python 3",
   "language": "python",
   "name": "python3"
  },
  "language_info": {
   "codemirror_mode": {
    "name": "ipython",
    "version": 2
   },
   "file_extension": ".py",
   "mimetype": "text/x-python",
   "name": "python",
   "nbconvert_exporter": "python",
   "pygments_lexer": "ipython2",
   "version": "2.7.6"
  }
 },
 "nbformat": 4,
 "nbformat_minor": 0
}
